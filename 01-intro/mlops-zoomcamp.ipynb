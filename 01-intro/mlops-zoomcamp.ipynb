{
 "cells": [
  {
   "cell_type": "code",
   "execution_count": 2,
   "id": "59168fab-550b-4043-be28-78629b5c6dae",
   "metadata": {},
   "outputs": [],
   "source": [
    "import pandas as pd"
   ]
  },
  {
   "cell_type": "code",
   "execution_count": 3,
   "id": "02e33237-6cbe-4d30-a8ee-f7dc393ead7f",
   "metadata": {},
   "outputs": [
    {
     "data": {
      "text/plain": [
       "'2.3.1'"
      ]
     },
     "execution_count": 3,
     "metadata": {},
     "output_type": "execute_result"
    }
   ],
   "source": [
    "pd.__version__"
   ]
  },
  {
   "cell_type": "code",
   "execution_count": 5,
   "id": "0ef9ea5e-74d2-4fb9-b391-7920c0477878",
   "metadata": {},
   "outputs": [
    {
     "name": "stdout",
     "output_type": "stream",
     "text": [
      "Requirement already satisfied: pyarrow in /opt/conda/lib/python3.12/site-packages (21.0.0)\n",
      "\n",
      "\u001b[1m[\u001b[0m\u001b[34;49mnotice\u001b[0m\u001b[1;39;49m]\u001b[0m\u001b[39;49m A new release of pip is available: \u001b[0m\u001b[31;49m25.1.1\u001b[0m\u001b[39;49m -> \u001b[0m\u001b[32;49m25.2\u001b[0m\n",
      "\u001b[1m[\u001b[0m\u001b[34;49mnotice\u001b[0m\u001b[1;39;49m]\u001b[0m\u001b[39;49m To update, run: \u001b[0m\u001b[32;49mpip install --upgrade pip\u001b[0m\n"
     ]
    }
   ],
   "source": [
    "!pip install pyarrow"
   ]
  },
  {
   "cell_type": "code",
   "execution_count": 6,
   "id": "0cba3e6a-5687-42a8-9a2f-bd03b3373cba",
   "metadata": {},
   "outputs": [
    {
     "name": "stdout",
     "output_type": "stream",
     "text": [
      "Requirement already satisfied: fastparquet in /opt/conda/lib/python3.12/site-packages (2024.11.0)\n",
      "Requirement already satisfied: pandas>=1.5.0 in /home/codespace/.local/lib/python3.12/site-packages (from fastparquet) (2.3.1)\n",
      "Requirement already satisfied: numpy in /home/codespace/.local/lib/python3.12/site-packages (from fastparquet) (2.3.1)\n",
      "Requirement already satisfied: cramjam>=2.3 in /opt/conda/lib/python3.12/site-packages (from fastparquet) (2.11.0)\n",
      "Requirement already satisfied: fsspec in /home/codespace/.local/lib/python3.12/site-packages (from fastparquet) (2024.6.1)\n",
      "Requirement already satisfied: packaging in /home/codespace/.local/lib/python3.12/site-packages (from fastparquet) (25.0)\n",
      "Requirement already satisfied: python-dateutil>=2.8.2 in /home/codespace/.local/lib/python3.12/site-packages (from pandas>=1.5.0->fastparquet) (2.9.0.post0)\n",
      "Requirement already satisfied: pytz>=2020.1 in /home/codespace/.local/lib/python3.12/site-packages (from pandas>=1.5.0->fastparquet) (2025.2)\n",
      "Requirement already satisfied: tzdata>=2022.7 in /home/codespace/.local/lib/python3.12/site-packages (from pandas>=1.5.0->fastparquet) (2025.2)\n",
      "Requirement already satisfied: six>=1.5 in /home/codespace/.local/lib/python3.12/site-packages (from python-dateutil>=2.8.2->pandas>=1.5.0->fastparquet) (1.17.0)\n",
      "\n",
      "\u001b[1m[\u001b[0m\u001b[34;49mnotice\u001b[0m\u001b[1;39;49m]\u001b[0m\u001b[39;49m A new release of pip is available: \u001b[0m\u001b[31;49m25.1.1\u001b[0m\u001b[39;49m -> \u001b[0m\u001b[32;49m25.2\u001b[0m\n",
      "\u001b[1m[\u001b[0m\u001b[34;49mnotice\u001b[0m\u001b[1;39;49m]\u001b[0m\u001b[39;49m To update, run: \u001b[0m\u001b[32;49mpip install --upgrade pip\u001b[0m\n"
     ]
    }
   ],
   "source": [
    "!pip install fastparquet"
   ]
  },
  {
   "cell_type": "code",
   "execution_count": 7,
   "id": "b767fad1-a389-45cc-a968-1de4e16b7aec",
   "metadata": {},
   "outputs": [],
   "source": [
    "df = pd.read_parquet(\"https://d37ci6vzurychx.cloudfront.net/trip-data/yellow_tripdata_2025-08.parquet\")"
   ]
  },
  {
   "cell_type": "code",
   "execution_count": 8,
   "id": "79bdbbf1-1025-49b8-acbf-f2c5802dcdc5",
   "metadata": {},
   "outputs": [
    {
     "name": "stdout",
     "output_type": "stream",
     "text": [
      "Requirement already satisfied: pip in /opt/conda/lib/python3.12/site-packages (25.1.1)\n",
      "Collecting pip\n",
      "  Downloading pip-25.2-py3-none-any.whl.metadata (4.7 kB)\n",
      "Downloading pip-25.2-py3-none-any.whl (1.8 MB)\n",
      "\u001b[2K   \u001b[38;2;114;156;31m━━━━━━━━━━━━━━━━━━━━━━━━━━━━━━━━━━━━━━━━\u001b[0m \u001b[32m1.8/1.8 MB\u001b[0m \u001b[31m50.8 MB/s\u001b[0m eta \u001b[36m0:00:00\u001b[0m\n",
      "\u001b[?25hInstalling collected packages: pip\n",
      "  Attempting uninstall: pip\n",
      "    Found existing installation: pip 25.1.1\n",
      "    Uninstalling pip-25.1.1:\n",
      "      Successfully uninstalled pip-25.1.1\n",
      "Successfully installed pip-25.2\n"
     ]
    }
   ],
   "source": [
    "!pip install --upgrade pip"
   ]
  },
  {
   "cell_type": "code",
   "execution_count": 9,
   "id": "9fadd440-7b3b-434d-97bd-2193c87df41e",
   "metadata": {},
   "outputs": [
    {
     "data": {
      "text/plain": [
       "<bound method NDFrame.head of          VendorID tpep_pickup_datetime tpep_dropoff_datetime  passenger_count  \\\n",
       "0               2  2025-08-01 00:52:23   2025-08-01 01:12:20              1.0   \n",
       "1               2  2025-08-01 00:03:01   2025-08-01 00:15:33              2.0   \n",
       "2               7  2025-08-01 00:24:38   2025-08-01 00:24:38              2.0   \n",
       "3               7  2025-08-01 00:48:19   2025-08-01 00:48:19              1.0   \n",
       "4               2  2025-08-01 00:25:34   2025-08-01 00:33:18              1.0   \n",
       "...           ...                  ...                   ...              ...   \n",
       "3574086         2  2025-08-31 23:40:30   2025-08-31 23:58:48              NaN   \n",
       "3574087         2  2025-08-31 23:10:26   2025-08-31 23:29:01              NaN   \n",
       "3574088         2  2025-08-31 23:04:21   2025-08-31 23:25:21              NaN   \n",
       "3574089         2  2025-08-31 23:44:26   2025-08-31 23:44:42              NaN   \n",
       "3574090         2  2025-08-31 23:11:01   2025-08-31 23:31:07              NaN   \n",
       "\n",
       "         trip_distance  RatecodeID store_and_fwd_flag  PULocationID  \\\n",
       "0                 8.44         1.0                  N           138   \n",
       "1                 4.98         1.0                  N           138   \n",
       "2                 1.89         1.0                  N           249   \n",
       "3                 2.35         1.0                  N            79   \n",
       "4                 2.14         1.0                  N            43   \n",
       "...                ...         ...                ...           ...   \n",
       "3574086           3.12         NaN               None            65   \n",
       "3574087           5.92         NaN               None           236   \n",
       "3574088           4.10         NaN               None           148   \n",
       "3574089           0.02         NaN               None           107   \n",
       "3574090           5.07         NaN               None            65   \n",
       "\n",
       "         DOLocationID  payment_type  fare_amount  extra  mta_tax  tip_amount  \\\n",
       "0                 141             1        33.80    6.0      0.5        5.00   \n",
       "1                 193             1        21.20    6.0      0.5        0.00   \n",
       "2                  45             1        14.20    0.0      0.5        3.99   \n",
       "3                 229             1        11.40    0.0      0.5        3.43   \n",
       "4                  48             1        11.40    1.0      0.5        2.57   \n",
       "...               ...           ...          ...    ...      ...         ...   \n",
       "3574086           228             0        21.53    0.0      0.5        0.00   \n",
       "3574087           148             0        21.78    0.0      0.5        0.00   \n",
       "3574088            48             0        -4.75    0.0      0.5        0.00   \n",
       "3574089           107             0        12.67    0.0      0.5        0.00   \n",
       "3574090            68             0        -4.75    0.0      0.5        0.00   \n",
       "\n",
       "         tolls_amount  improvement_surcharge  total_amount  \\\n",
       "0                6.94                    1.0         57.49   \n",
       "1                0.00                    1.0         30.45   \n",
       "2                0.00                    1.0         23.94   \n",
       "3                0.00                    1.0         20.58   \n",
       "4                0.00                    1.0         19.72   \n",
       "...               ...                    ...           ...   \n",
       "3574086          0.00                    1.0         23.03   \n",
       "3574087          0.00                    1.0         26.53   \n",
       "3574088          0.00                    1.0          5.83   \n",
       "3574089          0.00                    1.0         17.42   \n",
       "3574090          0.00                    1.0         10.00   \n",
       "\n",
       "         congestion_surcharge  Airport_fee  cbd_congestion_fee  \n",
       "0                         2.5         1.75                0.00  \n",
       "1                         0.0         1.75                0.00  \n",
       "2                         2.5         0.00                0.75  \n",
       "3                         2.5         0.00                0.75  \n",
       "4                         2.5         0.00                0.75  \n",
       "...                       ...          ...                 ...  \n",
       "3574086                   NaN          NaN                0.00  \n",
       "3574087                   NaN          NaN                0.75  \n",
       "3574088                   NaN          NaN                0.75  \n",
       "3574089                   NaN          NaN                0.75  \n",
       "3574090                   NaN          NaN                0.75  \n",
       "\n",
       "[3574091 rows x 20 columns]>"
      ]
     },
     "execution_count": 9,
     "metadata": {},
     "output_type": "execute_result"
    }
   ],
   "source": [
    "df.head"
   ]
  },
  {
   "cell_type": "code",
   "execution_count": null,
   "id": "d592e555-5965-483e-ba74-2725f2865704",
   "metadata": {},
   "outputs": [],
   "source": []
  }
 ],
 "metadata": {
  "kernelspec": {
   "display_name": "Python 3 (ipykernel)",
   "language": "python",
   "name": "python3"
  },
  "language_info": {
   "codemirror_mode": {
    "name": "ipython",
    "version": 3
   },
   "file_extension": ".py",
   "mimetype": "text/x-python",
   "name": "python",
   "nbconvert_exporter": "python",
   "pygments_lexer": "ipython3",
   "version": "3.12.3"
  }
 },
 "nbformat": 4,
 "nbformat_minor": 5
}
